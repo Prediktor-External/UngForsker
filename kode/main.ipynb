{
 "cells": [
  {
   "cell_type": "code",
   "execution_count": null,
   "metadata": {},
   "outputs": [],
   "source": [
    "# ÅPNE SOLDATA I PANDAS\n",
    "import os\n",
    "import pandas as pd\n",
    "datagrunnlagsmappen = os.chdir('../datagrunnlag')\n",
    "soldata_fil = os.path.join(os.getcwd(), 'hIrr.txt')\n",
    "soldata_innhold = pd.read_csv(soldata_fil)"
   ]
  },
  {
   "cell_type": "code",
   "execution_count": null,
   "metadata": {},
   "outputs": [],
   "source": [
    "\n",
    "# Lag et navn på kolonne 1\n",
    "soldata_innhold.columns = ['w_pr_m2']\n",
    "print(soldata_innhold)\n"
   ]
  },
  {
   "cell_type": "code",
   "execution_count": null,
   "metadata": {},
   "outputs": [],
   "source": [
    "# Lag en ny kolonne med W for alle 1000 kvadratmeterne\n",
    "soldata_innhold['totalt_w'] = soldata_innhold['w_pr_m2'] * 1000\n",
    "print(soldata_innhold)"
   ]
  },
  {
   "cell_type": "code",
   "execution_count": null,
   "metadata": {},
   "outputs": [],
   "source": [
    "# Lag en rad med antall timer siden 0\n",
    "import math\n",
    "soldata_innhold['time'] = [int(math.floor(i / 10)) for i in range(0,719)]\n",
    "print(soldata_innhold)\n"
   ]
  },
  {
   "cell_type": "code",
   "execution_count": null,
   "metadata": {},
   "outputs": [],
   "source": [
    "# Gjennomsnittlig produksjon pr time\n",
    "gjennomsnitt = soldata_innhold.groupby(by='time').mean()\n",
    "print(gjennomsnitt)"
   ]
  }
 ],
 "metadata": {
  "interpreter": {
   "hash": "b0fa6594d8f4cbf19f97940f81e996739fb7646882a419484c72d19e05852a7e"
  },
  "kernelspec": {
   "display_name": "Python 3.9.7 64-bit",
   "name": "python3"
  },
  "language_info": {
   "codemirror_mode": {
    "name": "ipython",
    "version": 3
   },
   "file_extension": ".py",
   "mimetype": "text/x-python",
   "name": "python",
   "nbconvert_exporter": "python",
   "pygments_lexer": "ipython3",
   "version": "3.9.7"
  },
  "orig_nbformat": 4
 },
 "nbformat": 4,
 "nbformat_minor": 2
}
